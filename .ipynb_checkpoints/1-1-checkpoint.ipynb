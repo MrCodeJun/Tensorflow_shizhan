{
 "cells": [
  {
   "cell_type": "code",
   "execution_count": 57,
   "metadata": {
    "collapsed": false
   },
   "outputs": [],
   "source": [
    "import tensorflow as tf\n",
    "import numpy as np\n",
    "import math"
   ]
  },
  {
   "cell_type": "code",
   "execution_count": 58,
   "metadata": {
    "collapsed": false
   },
   "outputs": [],
   "source": [
    "b =tf.Variable(tf.zeros([100]))  # generate 100d vector, init 0\n",
    "W = tf.Variable(tf.random_uniform([748,100],-1,1)) \n",
    "x = tf.placeholder(name= 'x',dtype = 'float32')\n",
    "y = tf.placeholder(name = 'y',dtype='float32')"
   ]
  },
  {
   "cell_type": "code",
   "execution_count": 60,
   "metadata": {
    "collapsed": false
   },
   "outputs": [],
   "source": [
    "relu = tf.nn.relu(tf.matmul(W,x)+b)  #RELU(wx+b)\n",
    "C =[tf.square(tf.subtract(relu,y))]\n",
    "init = tf.global_variables_initializer()"
   ]
  },
  {
   "cell_type": "code",
   "execution_count": 61,
   "metadata": {
    "collapsed": true
   },
   "outputs": [],
   "source": [
    "s = tf.Session()"
   ]
  },
  {
   "cell_type": "code",
   "execution_count": 63,
   "metadata": {
    "collapsed": false
   },
   "outputs": [],
   "source": [
    "W_know = np.random.randn(748,100)\n",
    "s.run(init)\n",
    "for step in range(0,10):\n",
    "    input_x = np.random.randn(100)\n",
    "    output_y = np.matmul(W_know,input_x)\n",
    "    results = s.run(C, feed_dict={x:input_x})\n",
    "\n",
    "\n",
    "    #print(step, results)"
   ]
  },
  {
   "cell_type": "code",
   "execution_count": null,
   "metadata": {
    "collapsed": true
   },
   "outputs": [],
   "source": []
  }
 ],
 "metadata": {
  "kernelspec": {
   "display_name": "Python 3",
   "language": "python",
   "name": "python3"
  },
  "language_info": {
   "codemirror_mode": {
    "name": "ipython",
    "version": 3
   },
   "file_extension": ".py",
   "mimetype": "text/x-python",
   "name": "python",
   "nbconvert_exporter": "python",
   "pygments_lexer": "ipython3",
   "version": "3.6.3"
  }
 },
 "nbformat": 4,
 "nbformat_minor": 2
}
